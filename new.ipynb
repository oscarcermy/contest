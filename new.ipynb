{
 "cells": [
  {
   "cell_type": "code",
   "execution_count": 2,
   "id": "2829f2a7",
   "metadata": {},
   "outputs": [
    {
     "name": "stderr",
     "output_type": "stream",
     "text": [
      "\u001b[32m10:51:30.650\u001b[0m \u001b[1;30maligo.INFO\u001b[0m Config C:\\Users\\kl\\.aligo\\aligo.json\n",
      "\u001b[32m10:51:30.650\u001b[0m \u001b[1;30maligo.INFO\u001b[0m 日志等级 DEBUG\n",
      "\u001b[32m10:51:30.650\u001b[0m \u001b[1;30maligo.INFO\u001b[0m aligo 版本 6.2.6\n",
      "\u001b[32m10:51:30.652\u001b[0m \u001b[1;30maligo.INFO\u001b[0m Windows 操作系统\n",
      "\u001b[32m10:51:30.653\u001b[0m \u001b[1;30maligo.INFO\u001b[0m 加载配置文件 C:\\Users\\kl\\.aligo\\aligo.json\n"
     ]
    }
   ],
   "source": [
    "from aligo import Aligo\n",
    "ali = Aligo()"
   ]
  },
  {
   "cell_type": "code",
   "execution_count": 3,
   "id": "f33a1920",
   "metadata": {},
   "outputs": [
    {
     "name": "stderr",
     "output_type": "stream",
     "text": [
      "\u001b[32m10:51:31.751\u001b[0m \u001b[1;30maligo.INFO\u001b[0m POST https://user.aliyundrive.com/v2/user/get 200 773\n"
     ]
    },
    {
     "data": {
      "text/plain": [
       "'1740311840'"
      ]
     },
     "execution_count": 3,
     "metadata": {},
     "output_type": "execute_result"
    }
   ],
   "source": [
    "v2_user = ali.v2_user_get()\n",
    "resource_drive_id = v2_user.resource_drive_id\n",
    "resource_drive_id"
   ]
  },
  {
   "cell_type": "code",
   "execution_count": null,
   "id": "73fa83af",
   "metadata": {},
   "outputs": [
    {
     "name": "stderr",
     "output_type": "stream",
     "text": [
      "\u001b[32m10:06:40.237\u001b[0m \u001b[1;30maligo.INFO\u001b[0m POST https://api.aliyundrive.com/adrive/v3/file/list?jsonmask=next_marker%2Citems%28name%2Cfile_id%2Cdrive_id%2Ctype%2Csize%2Ccreated_at%2Cupdated_at%2Ccategory%2Cfile_extension%2Cparent_file_id%2Cmime_type%2Cstarred%2Cthumbnail%2Curl%2Cstreams_info%2Ccontent_hash%2Cuser_tags%2Cuser_meta%2Ctrashed%2Cvideo_media_metadata%2Cvideo_preview_metadata%2Csync_meta%2Csync_device_flag%2Csync_flag%2Cpunish_flag 200 11142\n"
     ]
    },
    {
     "name": "stdout",
     "output_type": "stream",
     "text": [
      "BaseFile(type='folder', file_id='68ce06915794fd02bd95468c9def4e50d75112c3', name='contest', parent_file_id='root')\n",
      "BaseFile(type='file', file_id='68ce0aefa148e40940af4489b2e93183266eb7d9', name='result_3_cp1.jpeg', parent_file_id='root')\n",
      "BaseFile(type='file', file_id='6888882fd7471f7612814bc9918ef053c86e0fed', name='刘文行预定的会议 2025-07-29 15-02-17.mp4', parent_file_id='root')\n",
      "BaseFile(type='file', file_id='6888882fce02afd56c8141b2865bae57f1642c91', name='刘文行预定的会议 2025-07-29 15-01-34.mp4', parent_file_id='root')\n"
     ]
    }
   ],
   "source": [
    "file_list = ali.get_file_list(drive_id=resource_drive_id)\n",
    "for file in file_list:\n",
    "    print(file)\n",
    "ali.download_folder(drive_id=resource_drive_id, folder_file_id=file.file_id, local_folder=local_folder)"
   ]
  },
  {
   "cell_type": "code",
   "execution_count": null,
   "id": "29153572",
   "metadata": {},
   "outputs": [
    {
     "name": "stderr",
     "output_type": "stream",
     "text": [
      "\u001b[32m10:30:53.240\u001b[0m \u001b[1;30maligo.INFO\u001b[0m POST https://api.aliyundrive.com/adrive/v3/file/list?jsonmask=next_marker%2Citems%28name%2Cfile_id%2Cdrive_id%2Ctype%2Csize%2Ccreated_at%2Cupdated_at%2Ccategory%2Cfile_extension%2Cparent_file_id%2Cmime_type%2Cstarred%2Cthumbnail%2Curl%2Cstreams_info%2Ccontent_hash%2Cuser_tags%2Cuser_meta%2Ctrashed%2Cvideo_media_metadata%2Cvideo_preview_metadata%2Csync_meta%2Csync_device_flag%2Csync_flag%2Cpunish_flag 200 806\n",
      "\u001b[32m10:30:53.351\u001b[0m \u001b[1;30maligo.INFO\u001b[0m POST https://api.aliyundrive.com/adrive/v3/file/list?jsonmask=next_marker%2Citems%28name%2Cfile_id%2Cdrive_id%2Ctype%2Csize%2Ccreated_at%2Cupdated_at%2Ccategory%2Cfile_extension%2Cparent_file_id%2Cmime_type%2Cstarred%2Cthumbnail%2Curl%2Cstreams_info%2Ccontent_hash%2Cuser_tags%2Cuser_meta%2Ctrashed%2Cvideo_media_metadata%2Cvideo_preview_metadata%2Csync_meta%2Csync_device_flag%2Csync_flag%2Cpunish_flag 200 1799\n",
      "\u001b[32m10:30:53.442\u001b[0m \u001b[1;30maligo.INFO\u001b[0m POST https://api.aliyundrive.com/adrive/v3/file/list?jsonmask=next_marker%2Citems%28name%2Cfile_id%2Cdrive_id%2Ctype%2Csize%2Ccreated_at%2Cupdated_at%2Ccategory%2Cfile_extension%2Cparent_file_id%2Cmime_type%2Cstarred%2Cthumbnail%2Curl%2Cstreams_info%2Ccontent_hash%2Cuser_tags%2Cuser_meta%2Ctrashed%2Cvideo_media_metadata%2Cvideo_preview_metadata%2Csync_meta%2Csync_device_flag%2Csync_flag%2Cpunish_flag 200 29\n",
      "\u001b[32m10:30:56.544\u001b[0m \u001b[1;30maligo.INFO\u001b[0m POST https://api.aliyundrive.com/adrive/v3/file/list?jsonmask=next_marker%2Citems%28name%2Cfile_id%2Cdrive_id%2Ctype%2Csize%2Ccreated_at%2Cupdated_at%2Ccategory%2Cfile_extension%2Cparent_file_id%2Cmime_type%2Cstarred%2Cthumbnail%2Curl%2Cstreams_info%2Ccontent_hash%2Cuser_tags%2Cuser_meta%2Ctrashed%2Cvideo_media_metadata%2Cvideo_preview_metadata%2Csync_meta%2Csync_device_flag%2Csync_flag%2Cpunish_flag 200 806\n",
      "\u001b[32m10:30:56.662\u001b[0m \u001b[1;30maligo.INFO\u001b[0m POST https://api.aliyundrive.com/adrive/v3/file/list?jsonmask=next_marker%2Citems%28name%2Cfile_id%2Cdrive_id%2Ctype%2Csize%2Ccreated_at%2Cupdated_at%2Ccategory%2Cfile_extension%2Cparent_file_id%2Cmime_type%2Cstarred%2Cthumbnail%2Curl%2Cstreams_info%2Ccontent_hash%2Cuser_tags%2Cuser_meta%2Ctrashed%2Cvideo_media_metadata%2Cvideo_preview_metadata%2Csync_meta%2Csync_device_flag%2Csync_flag%2Cpunish_flag 200 1799\n",
      "\u001b[32m10:30:56.762\u001b[0m \u001b[1;30maligo.INFO\u001b[0m POST https://api.aliyundrive.com/adrive/v3/file/list?jsonmask=next_marker%2Citems%28name%2Cfile_id%2Cdrive_id%2Ctype%2Csize%2Ccreated_at%2Cupdated_at%2Ccategory%2Cfile_extension%2Cparent_file_id%2Cmime_type%2Cstarred%2Cthumbnail%2Curl%2Cstreams_info%2Ccontent_hash%2Cuser_tags%2Cuser_meta%2Ctrashed%2Cvideo_media_metadata%2Cvideo_preview_metadata%2Csync_meta%2Csync_device_flag%2Csync_flag%2Cpunish_flag 200 29\n",
      "\u001b[32m10:30:59.871\u001b[0m \u001b[1;30maligo.INFO\u001b[0m POST https://api.aliyundrive.com/adrive/v3/file/list?jsonmask=next_marker%2Citems%28name%2Cfile_id%2Cdrive_id%2Ctype%2Csize%2Ccreated_at%2Cupdated_at%2Ccategory%2Cfile_extension%2Cparent_file_id%2Cmime_type%2Cstarred%2Cthumbnail%2Curl%2Cstreams_info%2Ccontent_hash%2Cuser_tags%2Cuser_meta%2Ctrashed%2Cvideo_media_metadata%2Cvideo_preview_metadata%2Csync_meta%2Csync_device_flag%2Csync_flag%2Cpunish_flag 200 806\n",
      "\u001b[32m10:30:59.982\u001b[0m \u001b[1;30maligo.INFO\u001b[0m POST https://api.aliyundrive.com/adrive/v3/file/list?jsonmask=next_marker%2Citems%28name%2Cfile_id%2Cdrive_id%2Ctype%2Csize%2Ccreated_at%2Cupdated_at%2Ccategory%2Cfile_extension%2Cparent_file_id%2Cmime_type%2Cstarred%2Cthumbnail%2Curl%2Cstreams_info%2Ccontent_hash%2Cuser_tags%2Cuser_meta%2Ctrashed%2Cvideo_media_metadata%2Cvideo_preview_metadata%2Csync_meta%2Csync_device_flag%2Csync_flag%2Cpunish_flag 200 1799\n",
      "\u001b[32m10:31:00.080\u001b[0m \u001b[1;30maligo.INFO\u001b[0m POST https://api.aliyundrive.com/adrive/v3/file/list?jsonmask=next_marker%2Citems%28name%2Cfile_id%2Cdrive_id%2Ctype%2Csize%2Ccreated_at%2Cupdated_at%2Ccategory%2Cfile_extension%2Cparent_file_id%2Cmime_type%2Cstarred%2Cthumbnail%2Curl%2Cstreams_info%2Ccontent_hash%2Cuser_tags%2Cuser_meta%2Ctrashed%2Cvideo_media_metadata%2Cvideo_preview_metadata%2Csync_meta%2Csync_device_flag%2Csync_flag%2Cpunish_flag 200 29\n",
      "\u001b[32m10:31:03.190\u001b[0m \u001b[1;30maligo.INFO\u001b[0m POST https://api.aliyundrive.com/adrive/v3/file/list?jsonmask=next_marker%2Citems%28name%2Cfile_id%2Cdrive_id%2Ctype%2Csize%2Ccreated_at%2Cupdated_at%2Ccategory%2Cfile_extension%2Cparent_file_id%2Cmime_type%2Cstarred%2Cthumbnail%2Curl%2Cstreams_info%2Ccontent_hash%2Cuser_tags%2Cuser_meta%2Ctrashed%2Cvideo_media_metadata%2Cvideo_preview_metadata%2Csync_meta%2Csync_device_flag%2Csync_flag%2Cpunish_flag 200 806\n",
      "\u001b[32m10:31:03.306\u001b[0m \u001b[1;30maligo.INFO\u001b[0m POST https://api.aliyundrive.com/adrive/v3/file/list?jsonmask=next_marker%2Citems%28name%2Cfile_id%2Cdrive_id%2Ctype%2Csize%2Ccreated_at%2Cupdated_at%2Ccategory%2Cfile_extension%2Cparent_file_id%2Cmime_type%2Cstarred%2Cthumbnail%2Curl%2Cstreams_info%2Ccontent_hash%2Cuser_tags%2Cuser_meta%2Ctrashed%2Cvideo_media_metadata%2Cvideo_preview_metadata%2Csync_meta%2Csync_device_flag%2Csync_flag%2Cpunish_flag 200 1799\n",
      "\u001b[32m10:31:03.401\u001b[0m \u001b[1;30maligo.INFO\u001b[0m POST https://api.aliyundrive.com/adrive/v3/file/list?jsonmask=next_marker%2Citems%28name%2Cfile_id%2Cdrive_id%2Ctype%2Csize%2Ccreated_at%2Cupdated_at%2Ccategory%2Cfile_extension%2Cparent_file_id%2Cmime_type%2Cstarred%2Cthumbnail%2Curl%2Cstreams_info%2Ccontent_hash%2Cuser_tags%2Cuser_meta%2Ctrashed%2Cvideo_media_metadata%2Cvideo_preview_metadata%2Csync_meta%2Csync_device_flag%2Csync_flag%2Cpunish_flag 200 29\n",
      "\u001b[32m10:31:06.508\u001b[0m \u001b[1;30maligo.INFO\u001b[0m POST https://api.aliyundrive.com/adrive/v3/file/list?jsonmask=next_marker%2Citems%28name%2Cfile_id%2Cdrive_id%2Ctype%2Csize%2Ccreated_at%2Cupdated_at%2Ccategory%2Cfile_extension%2Cparent_file_id%2Cmime_type%2Cstarred%2Cthumbnail%2Curl%2Cstreams_info%2Ccontent_hash%2Cuser_tags%2Cuser_meta%2Ctrashed%2Cvideo_media_metadata%2Cvideo_preview_metadata%2Csync_meta%2Csync_device_flag%2Csync_flag%2Cpunish_flag 200 806\n",
      "\u001b[32m10:31:06.616\u001b[0m \u001b[1;30maligo.INFO\u001b[0m POST https://api.aliyundrive.com/adrive/v3/file/list?jsonmask=next_marker%2Citems%28name%2Cfile_id%2Cdrive_id%2Ctype%2Csize%2Ccreated_at%2Cupdated_at%2Ccategory%2Cfile_extension%2Cparent_file_id%2Cmime_type%2Cstarred%2Cthumbnail%2Curl%2Cstreams_info%2Ccontent_hash%2Cuser_tags%2Cuser_meta%2Ctrashed%2Cvideo_media_metadata%2Cvideo_preview_metadata%2Csync_meta%2Csync_device_flag%2Csync_flag%2Cpunish_flag 200 1799\n",
      "\u001b[32m10:31:06.729\u001b[0m \u001b[1;30maligo.INFO\u001b[0m POST https://api.aliyundrive.com/adrive/v3/file/list?jsonmask=next_marker%2Citems%28name%2Cfile_id%2Cdrive_id%2Ctype%2Csize%2Ccreated_at%2Cupdated_at%2Ccategory%2Cfile_extension%2Cparent_file_id%2Cmime_type%2Cstarred%2Cthumbnail%2Curl%2Cstreams_info%2Ccontent_hash%2Cuser_tags%2Cuser_meta%2Ctrashed%2Cvideo_media_metadata%2Cvideo_preview_metadata%2Csync_meta%2Csync_device_flag%2Csync_flag%2Cpunish_flag 200 3997\n",
      "\u001b[32m10:31:06.838\u001b[0m \u001b[1;30maligo.INFO\u001b[0m POST https://api.aliyundrive.com/adrive/v3/file/list?jsonmask=next_marker%2Citems%28name%2Cfile_id%2Cdrive_id%2Ctype%2Csize%2Ccreated_at%2Cupdated_at%2Ccategory%2Cfile_extension%2Cparent_file_id%2Cmime_type%2Cstarred%2Cthumbnail%2Curl%2Cstreams_info%2Ccontent_hash%2Cuser_tags%2Cuser_meta%2Ctrashed%2Cvideo_media_metadata%2Cvideo_preview_metadata%2Csync_meta%2Csync_device_flag%2Csync_flag%2Cpunish_flag 200 806\n",
      "\u001b[32m10:31:06.953\u001b[0m \u001b[1;30maligo.INFO\u001b[0m POST https://api.aliyundrive.com/adrive/v3/file/list?jsonmask=next_marker%2Citems%28name%2Cfile_id%2Cdrive_id%2Ctype%2Csize%2Ccreated_at%2Cupdated_at%2Ccategory%2Cfile_extension%2Cparent_file_id%2Cmime_type%2Cstarred%2Cthumbnail%2Curl%2Cstreams_info%2Ccontent_hash%2Cuser_tags%2Cuser_meta%2Ctrashed%2Cvideo_media_metadata%2Cvideo_preview_metadata%2Csync_meta%2Csync_device_flag%2Csync_flag%2Cpunish_flag 200 1799\n",
      "\u001b[32m10:31:07.049\u001b[0m \u001b[1;30maligo.INFO\u001b[0m POST https://api.aliyundrive.com/v2/file/get 200 887\n",
      "\u001b[32m10:31:07.160\u001b[0m \u001b[1;30maligo.INFO\u001b[0m POST https://api.aliyundrive.com/adrive/v3/file/list?jsonmask=next_marker%2Citems%28name%2Cfile_id%2Cdrive_id%2Ctype%2Csize%2Ccreated_at%2Cupdated_at%2Ccategory%2Cfile_extension%2Cparent_file_id%2Cmime_type%2Cstarred%2Cthumbnail%2Curl%2Cstreams_info%2Ccontent_hash%2Cuser_tags%2Cuser_meta%2Ctrashed%2Cvideo_media_metadata%2Cvideo_preview_metadata%2Csync_meta%2Csync_device_flag%2Csync_flag%2Cpunish_flag 200 4001\n",
      "\u001b[32m10:31:07.363\u001b[0m \u001b[1;30maligo.INFO\u001b[0m POST https://api.aliyundrive.com/v2/file/get_download_url 200 2587\n",
      "\u001b[32m10:31:07.365\u001b[0m \u001b[1;30maligo.INFO\u001b[0m 开始下载文件 d:\\learing____record\\contest\\images\\demo.png\n",
      "\u001b[32m10:31:15.693\u001b[0m \u001b[1;30maligo.WARNING\u001b[0m \u001b[33m不支持断点续传 d:\\learing____record\\contest\\images\\demo.png\u001b[0m\n",
      "100%|\u001b[38;2;49;168;255m██████████\u001b[0m| 1.65M/1.65M [00:43<00:00, 37.4kB/s]\n",
      "\u001b[32m10:31:59.677\u001b[0m \u001b[1;30maligo.INFO\u001b[0m 文件下载完成 d:\\learing____record\\contest\\images\\demo.png\n",
      "\u001b[32m10:32:02.822\u001b[0m \u001b[1;30maligo.INFO\u001b[0m POST https://api.aliyundrive.com/adrive/v3/file/list?jsonmask=next_marker%2Citems%28name%2Cfile_id%2Cdrive_id%2Ctype%2Csize%2Ccreated_at%2Cupdated_at%2Ccategory%2Cfile_extension%2Cparent_file_id%2Cmime_type%2Cstarred%2Cthumbnail%2Curl%2Cstreams_info%2Ccontent_hash%2Cuser_tags%2Cuser_meta%2Ctrashed%2Cvideo_media_metadata%2Cvideo_preview_metadata%2Csync_meta%2Csync_device_flag%2Csync_flag%2Cpunish_flag 200 806\n",
      "\u001b[32m10:32:02.936\u001b[0m \u001b[1;30maligo.INFO\u001b[0m POST https://api.aliyundrive.com/adrive/v3/file/list?jsonmask=next_marker%2Citems%28name%2Cfile_id%2Cdrive_id%2Ctype%2Csize%2Ccreated_at%2Cupdated_at%2Ccategory%2Cfile_extension%2Cparent_file_id%2Cmime_type%2Cstarred%2Cthumbnail%2Curl%2Cstreams_info%2Ccontent_hash%2Cuser_tags%2Cuser_meta%2Ctrashed%2Cvideo_media_metadata%2Cvideo_preview_metadata%2Csync_meta%2Csync_device_flag%2Csync_flag%2Cpunish_flag 200 1799\n",
      "\u001b[32m10:32:03.063\u001b[0m \u001b[1;30maligo.INFO\u001b[0m POST https://api.aliyundrive.com/adrive/v3/file/list?jsonmask=next_marker%2Citems%28name%2Cfile_id%2Cdrive_id%2Ctype%2Csize%2Ccreated_at%2Cupdated_at%2Ccategory%2Cfile_extension%2Cparent_file_id%2Cmime_type%2Cstarred%2Cthumbnail%2Curl%2Cstreams_info%2Ccontent_hash%2Cuser_tags%2Cuser_meta%2Ctrashed%2Cvideo_media_metadata%2Cvideo_preview_metadata%2Csync_meta%2Csync_device_flag%2Csync_flag%2Cpunish_flag 200 4035\n",
      "\u001b[32m10:32:03.176\u001b[0m \u001b[1;30maligo.INFO\u001b[0m POST https://api.aliyundrive.com/adrive/v3/file/list?jsonmask=next_marker%2Citems%28name%2Cfile_id%2Cdrive_id%2Ctype%2Csize%2Ccreated_at%2Cupdated_at%2Ccategory%2Cfile_extension%2Cparent_file_id%2Cmime_type%2Cstarred%2Cthumbnail%2Curl%2Cstreams_info%2Ccontent_hash%2Cuser_tags%2Cuser_meta%2Ctrashed%2Cvideo_media_metadata%2Cvideo_preview_metadata%2Csync_meta%2Csync_device_flag%2Csync_flag%2Cpunish_flag 200 806\n",
      "\u001b[32m10:32:03.290\u001b[0m \u001b[1;30maligo.INFO\u001b[0m POST https://api.aliyundrive.com/adrive/v3/file/list?jsonmask=next_marker%2Citems%28name%2Cfile_id%2Cdrive_id%2Ctype%2Csize%2Ccreated_at%2Cupdated_at%2Ccategory%2Cfile_extension%2Cparent_file_id%2Cmime_type%2Cstarred%2Cthumbnail%2Curl%2Cstreams_info%2Ccontent_hash%2Cuser_tags%2Cuser_meta%2Ctrashed%2Cvideo_media_metadata%2Cvideo_preview_metadata%2Csync_meta%2Csync_device_flag%2Csync_flag%2Cpunish_flag 200 1799\n",
      "\u001b[32m10:32:03.394\u001b[0m \u001b[1;30maligo.INFO\u001b[0m POST https://api.aliyundrive.com/v2/file/get 200 887\n",
      "\u001b[32m10:32:03.517\u001b[0m \u001b[1;30maligo.INFO\u001b[0m POST https://api.aliyundrive.com/adrive/v3/file/list?jsonmask=next_marker%2Citems%28name%2Cfile_id%2Cdrive_id%2Ctype%2Csize%2Ccreated_at%2Cupdated_at%2Ccategory%2Cfile_extension%2Cparent_file_id%2Cmime_type%2Cstarred%2Cthumbnail%2Curl%2Cstreams_info%2Ccontent_hash%2Cuser_tags%2Cuser_meta%2Ctrashed%2Cvideo_media_metadata%2Cvideo_preview_metadata%2Csync_meta%2Csync_device_flag%2Csync_flag%2Cpunish_flag 200 3989\n",
      "\u001b[32m10:32:03.695\u001b[0m \u001b[1;30maligo.INFO\u001b[0m POST https://api.aliyundrive.com/v2/file/get_download_url 200 2595\n",
      "\u001b[32m10:32:03.696\u001b[0m \u001b[1;30maligo.INFO\u001b[0m 开始下载文件 d:\\learing____record\\contest\\images\\demo.png\n",
      "\u001b[32m10:32:03.697\u001b[0m \u001b[1;30maligo.WARNING\u001b[0m \u001b[33m文件已存在,跳过下载 d:\\learing____record\\contest\\images\\demo.png\u001b[0m\n",
      "\u001b[32m10:32:06.805\u001b[0m \u001b[1;30maligo.INFO\u001b[0m POST https://api.aliyundrive.com/adrive/v3/file/list?jsonmask=next_marker%2Citems%28name%2Cfile_id%2Cdrive_id%2Ctype%2Csize%2Ccreated_at%2Cupdated_at%2Ccategory%2Cfile_extension%2Cparent_file_id%2Cmime_type%2Cstarred%2Cthumbnail%2Curl%2Cstreams_info%2Ccontent_hash%2Cuser_tags%2Cuser_meta%2Ctrashed%2Cvideo_media_metadata%2Cvideo_preview_metadata%2Csync_meta%2Csync_device_flag%2Csync_flag%2Cpunish_flag 200 806\n",
      "\u001b[32m10:32:06.911\u001b[0m \u001b[1;30maligo.INFO\u001b[0m POST https://api.aliyundrive.com/adrive/v3/file/list?jsonmask=next_marker%2Citems%28name%2Cfile_id%2Cdrive_id%2Ctype%2Csize%2Ccreated_at%2Cupdated_at%2Ccategory%2Cfile_extension%2Cparent_file_id%2Cmime_type%2Cstarred%2Cthumbnail%2Curl%2Cstreams_info%2Ccontent_hash%2Cuser_tags%2Cuser_meta%2Ctrashed%2Cvideo_media_metadata%2Cvideo_preview_metadata%2Csync_meta%2Csync_device_flag%2Csync_flag%2Cpunish_flag 200 1799\n",
      "\u001b[32m10:32:07.040\u001b[0m \u001b[1;30maligo.INFO\u001b[0m POST https://api.aliyundrive.com/adrive/v3/file/list?jsonmask=next_marker%2Citems%28name%2Cfile_id%2Cdrive_id%2Ctype%2Csize%2Ccreated_at%2Cupdated_at%2Ccategory%2Cfile_extension%2Cparent_file_id%2Cmime_type%2Cstarred%2Cthumbnail%2Curl%2Cstreams_info%2Ccontent_hash%2Cuser_tags%2Cuser_meta%2Ctrashed%2Cvideo_media_metadata%2Cvideo_preview_metadata%2Csync_meta%2Csync_device_flag%2Csync_flag%2Cpunish_flag 200 4009\n",
      "\u001b[32m10:32:07.115\u001b[0m \u001b[1;30maligo.INFO\u001b[0m POST https://api.aliyundrive.com/adrive/v3/file/list?jsonmask=next_marker%2Citems%28name%2Cfile_id%2Cdrive_id%2Ctype%2Csize%2Ccreated_at%2Cupdated_at%2Ccategory%2Cfile_extension%2Cparent_file_id%2Cmime_type%2Cstarred%2Cthumbnail%2Curl%2Cstreams_info%2Ccontent_hash%2Cuser_tags%2Cuser_meta%2Ctrashed%2Cvideo_media_metadata%2Cvideo_preview_metadata%2Csync_meta%2Csync_device_flag%2Csync_flag%2Cpunish_flag 429 133\n",
      "\u001b[32m10:32:07.116\u001b[0m \u001b[1;30maligo.WARNING\u001b[0m \u001b[33m请求太频繁，暂停 5 秒钟\u001b[0m\n",
      "\u001b[32m10:32:12.224\u001b[0m \u001b[1;30maligo.INFO\u001b[0m POST https://api.aliyundrive.com/adrive/v3/file/list?jsonmask=next_marker%2Citems%28name%2Cfile_id%2Cdrive_id%2Ctype%2Csize%2Ccreated_at%2Cupdated_at%2Ccategory%2Cfile_extension%2Cparent_file_id%2Cmime_type%2Cstarred%2Cthumbnail%2Curl%2Cstreams_info%2Ccontent_hash%2Cuser_tags%2Cuser_meta%2Ctrashed%2Cvideo_media_metadata%2Cvideo_preview_metadata%2Csync_meta%2Csync_device_flag%2Csync_flag%2Cpunish_flag 200 806\n"
     ]
    }
   ],
   "source": [
    "import time\n",
    "import os\n",
    "\n",
    "while True:\n",
    "    file = ali.get_file_by_path(drive_id=resource_drive_id, path='contest/images/demo.png')\n",
    "    if file:\n",
    "        local_folder = \"./\"\n",
    "        file = ali.get_folder_by_path(drive_id=resource_drive_id, path='contest/images')\n",
    "        ali.download_folder(drive_id=resource_drive_id, folder_file_id=file.file_id, local_folder=local_folder)\n",
    "    time.sleep(3)\n",
    "\n",
    "    if os.path.exists(\"./images/demo.png\"):\n",
    "        break"
   ]
  },
  {
   "cell_type": "code",
   "execution_count": null,
   "id": "ba73e891",
   "metadata": {},
   "outputs": [
    {
     "name": "stderr",
     "output_type": "stream",
     "text": [
      "\u001b[32m10:53:04.648\u001b[0m \u001b[1;30maligo.INFO\u001b[0m POST https://api.aliyundrive.com/adrive/v3/file/list?jsonmask=next_marker%2Citems%28name%2Cfile_id%2Cdrive_id%2Ctype%2Csize%2Ccreated_at%2Cupdated_at%2Ccategory%2Cfile_extension%2Cparent_file_id%2Cmime_type%2Cstarred%2Cthumbnail%2Curl%2Cstreams_info%2Ccontent_hash%2Cuser_tags%2Cuser_meta%2Ctrashed%2Cvideo_media_metadata%2Cvideo_preview_metadata%2Csync_meta%2Csync_device_flag%2Csync_flag%2Cpunish_flag 200 806\n",
      "\u001b[32m10:53:04.784\u001b[0m \u001b[1;30maligo.INFO\u001b[0m POST https://api.aliyundrive.com/adrive/v3/file/list?jsonmask=next_marker%2Citems%28name%2Cfile_id%2Cdrive_id%2Ctype%2Csize%2Ccreated_at%2Cupdated_at%2Ccategory%2Cfile_extension%2Cparent_file_id%2Cmime_type%2Cstarred%2Cthumbnail%2Curl%2Cstreams_info%2Ccontent_hash%2Cuser_tags%2Cuser_meta%2Ctrashed%2Cvideo_media_metadata%2Cvideo_preview_metadata%2Csync_meta%2Csync_device_flag%2Csync_flag%2Cpunish_flag 200 1799\n",
      "\u001b[32m10:53:04.899\u001b[0m \u001b[1;30maligo.INFO\u001b[0m POST https://api.aliyundrive.com/adrive/v2/file/createWithFolders 201 214\n",
      "\u001b[32m10:53:04.900\u001b[0m \u001b[1;30maligo.INFO\u001b[0m 开始上传文件 d:\\learing____record\\contest\\glbs\\demo.png\n",
      "\u001b[32m10:53:05.005\u001b[0m \u001b[1;30maligo.INFO\u001b[0m POST https://api.aliyundrive.com/adrive/v2/file/createWithFolders 409 192\n",
      "\u001b[32m10:53:05.204\u001b[0m \u001b[1;30maligo.INFO\u001b[0m POST https://api.aliyundrive.com/adrive/v2/file/createWithFolders 201 454\n",
      "\u001b[32m10:53:05.205\u001b[0m \u001b[1;30maligo.INFO\u001b[0m 文件秒传成功 d:\\learing____record\\contest\\glbs\\demo.png\n"
     ]
    },
    {
     "data": {
      "text/plain": [
       "[CreateFileResponse(file_name='demo.png', type='file', file_id='68ce170d999983a1f9e546db8ef8f901c9e8ba05', parent_file_id='68ce170daf91bb14ca064364b8b3067c194c0308')]"
      ]
     },
     "execution_count": 6,
     "metadata": {},
     "output_type": "execute_result"
    }
   ],
   "source": [
    "file = ali.get_folder_by_path(drive_id=resource_drive_id, path='contest/')\n",
    "ali.upload_folder('./glbs', drive_id=resource_drive_id, parent_file_id=file.file_id)"
   ]
  },
  {
   "cell_type": "code",
   "execution_count": null,
   "id": "24bbbf0f",
   "metadata": {},
   "outputs": [],
   "source": []
  }
 ],
 "metadata": {
  "kernelspec": {
   "display_name": "base",
   "language": "python",
   "name": "python3"
  },
  "language_info": {
   "codemirror_mode": {
    "name": "ipython",
    "version": 3
   },
   "file_extension": ".py",
   "mimetype": "text/x-python",
   "name": "python",
   "nbconvert_exporter": "python",
   "pygments_lexer": "ipython3",
   "version": "3.11.8"
  }
 },
 "nbformat": 4,
 "nbformat_minor": 5
}
